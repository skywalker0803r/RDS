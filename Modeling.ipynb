{
 "cells": [
  {
   "cell_type": "code",
   "execution_count": 3,
   "metadata": {},
   "outputs": [
    {
     "name": "stderr",
     "output_type": "stream",
     "text": [
      "Global seed set to 12\n"
     ]
    }
   ],
   "source": [
    "import requests\n",
    "import warnings\n",
    "warnings.filterwarnings(\"ignore\")\n",
    "import numpy as np\n",
    "import torch\n",
    "import random\n",
    "from pytorch_lightning import seed_everything\n",
    "seed = 12\n",
    "def set_seed(seed = int):\n",
    "    '''Sets the seed of the entire notebook so results are the same every time we run.\n",
    "    This is for REPRODUCIBILITY.'''\n",
    "    np.random.seed(seed)\n",
    "    random_state = np.random.RandomState(seed)\n",
    "    random.seed(seed)\n",
    "    torch.manual_seed(seed)\n",
    "    torch.cuda.manual_seed(seed)\n",
    "    torch.backends.cudnn.deterministic = True\n",
    "    torch.backends.cudnn.benchmark = False\n",
    "    os.environ['PYTHONHASHSEED'] = str(seed)\n",
    "    seed_everything(seed)\n",
    "    return random_state\n",
    "random_state = set_seed(seed)\n",
    "\n",
    "url = 'https://gist.githubusercontent.com/skywalker0803r/e0ef295d69aba240e6ff1537be354bc8/raw/eab83e022de41cfedf1644bd4e5752c97b2488f8/Modeling.py'\n",
    "exec(requests.get(url).text)"
   ]
  },
  {
   "cell_type": "code",
   "execution_count": 4,
   "metadata": {},
   "outputs": [],
   "source": [
    "import joblib\n",
    "data = joblib.load('data.pkl')\n",
    "merged_df = data['merged_df']\n",
    "input_col = data['input_col']\n",
    "output_col = data['output_col']\n"
   ]
  },
  {
   "cell_type": "code",
   "execution_count": 5,
   "metadata": {},
   "outputs": [
    {
     "data": {
      "text/plain": [
       "['ProductDSARRDS2',\n",
       " 'ProductDSARRDS2.1',\n",
       " 'ProductDSARRDS2.10',\n",
       " 'ProductDSARRDS2.11',\n",
       " 'ProductDSARRDS2.12',\n",
       " 'ProductDSARRDS2.13',\n",
       " 'ProductDSARRDS2.14',\n",
       " 'ProductDSARRDS2.15',\n",
       " 'ProductDSARRDS2.16',\n",
       " 'ProductDSARRDS2.17']"
      ]
     },
     "execution_count": 5,
     "metadata": {},
     "output_type": "execute_result"
    }
   ],
   "source": [
    "sorted(merged_df.columns.tolist())[:10]"
   ]
  },
  {
   "cell_type": "code",
   "execution_count": 6,
   "metadata": {},
   "outputs": [],
   "source": [
    "url = 'https://gist.githubusercontent.com/skywalker0803r/c92f4651ccbd0640c2a8c97c017092d9/raw/adedbf1159e92402f32b8d961f6db70a1b0c95ad/DataPreprocessingArmory.py'\n",
    "exec(requests.get(url).text)"
   ]
  },
  {
   "cell_type": "code",
   "execution_count": 7,
   "metadata": {},
   "outputs": [
    {
     "data": {
      "text/plain": [
       "(113, 47, 113, 47)"
      ]
     },
     "execution_count": 7,
     "metadata": {},
     "output_type": "execute_result"
    }
   ],
   "source": [
    "x_col = set(merged_df.columns)&set(input_col)\n",
    "y_col = set(merged_df.columns)&set(output_col)\n",
    "len(x_col),len(y_col),len(input_col),len(output_col)"
   ]
  },
  {
   "cell_type": "code",
   "execution_count": 8,
   "metadata": {},
   "outputs": [
    {
     "data": {
      "text/plain": [
       "(True, True)"
      ]
     },
     "execution_count": 8,
     "metadata": {},
     "output_type": "execute_result"
    }
   ],
   "source": [
    "x_col.issubset(input_col) ,y_col.issubset(output_col) "
   ]
  },
  {
   "cell_type": "code",
   "execution_count": 9,
   "metadata": {},
   "outputs": [],
   "source": [
    "train_loader,val_loader = df_2_torch_data_iter(df=merged_df,x_col=x_col,y_col=y_col,test_size=0.2,random_state=seed,batch_size=7)"
   ]
  },
  {
   "cell_type": "code",
   "execution_count": 10,
   "metadata": {},
   "outputs": [
    {
     "data": {
      "text/plain": [
       "Sequential(\n",
       "  (0): Linear(in_features=113, out_features=128, bias=True)\n",
       "  (1): ReLU()\n",
       "  (2): Linear(in_features=128, out_features=128, bias=True)\n",
       "  (3): ReLU()\n",
       "  (4): Linear(in_features=128, out_features=47, bias=True)\n",
       "  (5): Sigmoid()\n",
       ")"
      ]
     },
     "execution_count": 10,
     "metadata": {},
     "output_type": "execute_result"
    }
   ],
   "source": [
    "model = build_mlp(\n",
    "    layers = [len(x_col),128,128,len(y_col)],\n",
    "    activation_function = nn.ReLU(),\n",
    "    output_activation_function = nn.Sigmoid(),\n",
    "    )\n",
    "model"
   ]
  },
  {
   "cell_type": "code",
   "execution_count": 11,
   "metadata": {},
   "outputs": [
    {
     "name": "stderr",
     "output_type": "stream",
     "text": [
      " 11%|█         | 11/100 [00:00<00:00, 103.93it/s]"
     ]
    },
    {
     "name": "stdout",
     "output_type": "stream",
     "text": [
      "epoch:0 train_loss:0.04145278409123421 val_loss:0.030799604952335358\n",
      "save best_model now_val_best_loss is:0.030799604952335358\n",
      "epoch:1 train_loss:0.038241032510995865 val_loss:0.028100846335291862\n",
      "save best_model now_val_best_loss is:0.028100846335291862\n",
      "epoch:2 train_loss:0.03500379342585802 val_loss:0.025557653978466988\n",
      "save best_model now_val_best_loss is:0.025557653978466988\n",
      "epoch:3 train_loss:0.03284205915406346 val_loss:0.024245481938123703\n",
      "save best_model now_val_best_loss is:0.024245481938123703\n",
      "epoch:4 train_loss:0.032100606709718704 val_loss:0.023345891386270523\n",
      "save best_model now_val_best_loss is:0.023345891386270523\n",
      "epoch:5 train_loss:0.031380795408040285 val_loss:0.022435765713453293\n",
      "save best_model now_val_best_loss is:0.022435765713453293\n",
      "epoch:6 train_loss:0.030621166806668043 val_loss:0.02193286269903183\n",
      "save best_model now_val_best_loss is:0.02193286269903183\n",
      "epoch:7 train_loss:0.030058351811021566 val_loss:0.02171279862523079\n",
      "save best_model now_val_best_loss is:0.02171279862523079\n",
      "epoch:8 train_loss:0.02948169782757759 val_loss:0.021411852911114693\n",
      "save best_model now_val_best_loss is:0.021411852911114693\n",
      "epoch:9 train_loss:0.028740581590682268 val_loss:0.020922593772411346\n",
      "save best_model now_val_best_loss is:0.020922593772411346\n",
      "epoch:10 train_loss:0.02775795618072152 val_loss:0.020142344757914543\n",
      "save best_model now_val_best_loss is:0.020142344757914543\n",
      "epoch:11 train_loss:0.026527902577072382 val_loss:0.01914341375231743\n",
      "save best_model now_val_best_loss is:0.01914341375231743\n",
      "epoch:12 train_loss:0.025019241962581873 val_loss:0.018024761229753494\n",
      "save best_model now_val_best_loss is:0.018024761229753494\n",
      "epoch:13 train_loss:0.023308019619435072 val_loss:0.01701359637081623\n",
      "save best_model now_val_best_loss is:0.01701359637081623\n",
      "epoch:14 train_loss:0.021605209447443485 val_loss:0.016214098781347275\n",
      "save best_model now_val_best_loss is:0.016214098781347275\n",
      "epoch:15 train_loss:0.020011766348034143 val_loss:0.01572045125067234\n",
      "save best_model now_val_best_loss is:0.01572045125067234\n",
      "epoch:16 train_loss:0.018720402847975492 val_loss:0.015550985932350159\n",
      "save best_model now_val_best_loss is:0.015550985932350159\n",
      "epoch:17 train_loss:0.017808922100812197 val_loss:0.015538913197815418\n",
      "save best_model now_val_best_loss is:0.015538913197815418\n",
      "epoch:18 train_loss:0.0172023163177073 val_loss:0.01562489289790392\n",
      "epoch:19 train_loss:0.01676732674241066 val_loss:0.015704095363616943\n",
      "epoch:20 train_loss:0.016451645642518997 val_loss:0.015700988471508026\n",
      "epoch:21 train_loss:0.016104595037177205 val_loss:0.01566132716834545\n"
     ]
    },
    {
     "name": "stderr",
     "output_type": "stream",
     "text": [
      " 37%|███▋      | 37/100 [00:00<00:00, 112.90it/s]"
     ]
    },
    {
     "name": "stdout",
     "output_type": "stream",
     "text": [
      "epoch:22 train_loss:0.01582162664271891 val_loss:0.015565711073577404\n",
      "epoch:23 train_loss:0.015535453101620078 val_loss:0.01546704676002264\n",
      "save best_model now_val_best_loss is:0.01546704676002264\n",
      "epoch:24 train_loss:0.015264967922121286 val_loss:0.015412543900310993\n",
      "save best_model now_val_best_loss is:0.015412543900310993\n",
      "epoch:25 train_loss:0.01503747096285224 val_loss:0.015358942560851574\n",
      "save best_model now_val_best_loss is:0.015358942560851574\n",
      "epoch:26 train_loss:0.014797249110415578 val_loss:0.015319892205297947\n",
      "save best_model now_val_best_loss is:0.015319892205297947\n",
      "epoch:27 train_loss:0.014571589417755604 val_loss:0.015313807874917984\n",
      "save best_model now_val_best_loss is:0.015313807874917984\n",
      "epoch:28 train_loss:0.014366664690896869 val_loss:0.015318880788981915\n",
      "epoch:29 train_loss:0.01416860707104206 val_loss:0.015323334373533726\n",
      "epoch:30 train_loss:0.013974542496725917 val_loss:0.015328407287597656\n",
      "epoch:31 train_loss:0.013814534060657024 val_loss:0.015343754552304745\n",
      "epoch:32 train_loss:0.013650330482050776 val_loss:0.015367401763796806\n",
      "epoch:33 train_loss:0.013505703071132302 val_loss:0.01535382866859436\n",
      "epoch:34 train_loss:0.013354734051972628 val_loss:0.01537089329212904\n",
      "epoch:35 train_loss:0.013228088384494185 val_loss:0.015370108187198639\n",
      "epoch:36 train_loss:0.013109707273542881 val_loss:0.015345273539423943\n",
      "epoch:37 train_loss:0.012978288810700178 val_loss:0.015348811633884907\n",
      "epoch:38 train_loss:0.012868242803961039 val_loss:0.015371197834610939\n",
      "epoch:39 train_loss:0.012748459354043007 val_loss:0.015385642647743225\n",
      "epoch:40 train_loss:0.012628452852368355 val_loss:0.015385746955871582\n",
      "epoch:41 train_loss:0.012518234550952911 val_loss:0.015367352403700352\n",
      "epoch:42 train_loss:0.012393670622259378 val_loss:0.01535834651440382\n",
      "epoch:43 train_loss:0.012280263006687164 val_loss:0.015361301600933075\n",
      "epoch:44 train_loss:0.012166459113359451 val_loss:0.015335561707615852\n",
      "epoch:45 train_loss:0.012042156420648098 val_loss:0.01535060815513134\n",
      "epoch:46 train_loss:0.011929037282243371 val_loss:0.015375944785773754\n"
     ]
    },
    {
     "name": "stderr",
     "output_type": "stream",
     "text": [
      " 65%|██████▌   | 65/100 [00:00<00:00, 122.68it/s]"
     ]
    },
    {
     "name": "stdout",
     "output_type": "stream",
     "text": [
      "epoch:47 train_loss:0.011816737707704306 val_loss:0.015354331582784653\n",
      "epoch:48 train_loss:0.011671835323795676 val_loss:0.015339632518589497\n",
      "epoch:49 train_loss:0.011569203110411763 val_loss:0.01533227413892746\n",
      "epoch:50 train_loss:0.011432273546233773 val_loss:0.015279480256140232\n",
      "save best_model now_val_best_loss is:0.015279480256140232\n",
      "epoch:51 train_loss:0.011295677861198783 val_loss:0.015262393280863762\n",
      "save best_model now_val_best_loss is:0.015262393280863762\n",
      "epoch:52 train_loss:0.011194052174687386 val_loss:0.015249162912368774\n",
      "save best_model now_val_best_loss is:0.015249162912368774\n",
      "epoch:53 train_loss:0.01104772777762264 val_loss:0.015264458954334259\n",
      "epoch:54 train_loss:0.01095692627131939 val_loss:0.015272743068635464\n",
      "epoch:55 train_loss:0.010799248004332185 val_loss:0.015270103700459003\n",
      "epoch:56 train_loss:0.010674659162759781 val_loss:0.015185793861746788\n",
      "save best_model now_val_best_loss is:0.015185793861746788\n",
      "epoch:57 train_loss:0.010558933834545314 val_loss:0.015227476134896278\n",
      "epoch:58 train_loss:0.010446560569107533 val_loss:0.015246766619384289\n",
      "epoch:59 train_loss:0.010317009524442255 val_loss:0.015274574048817158\n",
      "epoch:60 train_loss:0.010214370558969676 val_loss:0.015184395015239716\n",
      "save best_model now_val_best_loss is:0.015184395015239716\n",
      "epoch:61 train_loss:0.010081334970891476 val_loss:0.015161302872002125\n",
      "save best_model now_val_best_loss is:0.015161302872002125\n",
      "epoch:62 train_loss:0.009966313373297453 val_loss:0.015052962116897106\n",
      "save best_model now_val_best_loss is:0.015052962116897106\n",
      "epoch:63 train_loss:0.009860200574621558 val_loss:0.015083092264831066\n",
      "epoch:64 train_loss:0.009750274126417935 val_loss:0.014985988847911358\n",
      "save best_model now_val_best_loss is:0.014985988847911358\n",
      "epoch:65 train_loss:0.009690230712294579 val_loss:0.015059872530400753\n",
      "epoch:66 train_loss:0.009579904610291123 val_loss:0.01497997809201479\n",
      "save best_model now_val_best_loss is:0.01497997809201479\n",
      "epoch:67 train_loss:0.00954560621175915 val_loss:0.015172171406447887\n",
      "epoch:68 train_loss:0.009432334685698152 val_loss:0.01505180262029171\n",
      "epoch:69 train_loss:0.009564258740283549 val_loss:0.015176722779870033\n",
      "epoch:70 train_loss:0.00938966020476073 val_loss:0.015021196566522121\n",
      "epoch:71 train_loss:0.009645600686781108 val_loss:0.015038636513054371\n"
     ]
    },
    {
     "name": "stderr",
     "output_type": "stream",
     "text": [
      " 92%|█████████▏| 92/100 [00:00<00:00, 118.53it/s]"
     ]
    },
    {
     "name": "stdout",
     "output_type": "stream",
     "text": [
      "epoch:72 train_loss:0.009320599143393338 val_loss:0.014947737567126751\n",
      "save best_model now_val_best_loss is:0.014947737567126751\n",
      "epoch:73 train_loss:0.009692742605693638 val_loss:0.014984042383730412\n",
      "epoch:74 train_loss:0.009074431378394365 val_loss:0.014792927540838718\n",
      "save best_model now_val_best_loss is:0.014792927540838718\n",
      "epoch:75 train_loss:0.009127187309786677 val_loss:0.014745475724339485\n",
      "save best_model now_val_best_loss is:0.014745475724339485\n",
      "epoch:76 train_loss:0.008553283871151507 val_loss:0.01476109866052866\n",
      "epoch:77 train_loss:0.008580669644288719 val_loss:0.014699511229991913\n",
      "save best_model now_val_best_loss is:0.014699511229991913\n",
      "epoch:78 train_loss:0.008262059069238603 val_loss:0.014815554022789001\n",
      "epoch:79 train_loss:0.008215271518565714 val_loss:0.014681686647236347\n",
      "save best_model now_val_best_loss is:0.014681686647236347\n",
      "epoch:80 train_loss:0.008039117674343288 val_loss:0.014715856872498989\n",
      "epoch:81 train_loss:0.00796918966807425 val_loss:0.014688762836158276\n",
      "epoch:82 train_loss:0.007846859283745289 val_loss:0.014684387482702732\n",
      "epoch:83 train_loss:0.007767779752612114 val_loss:0.014646853320300579\n",
      "save best_model now_val_best_loss is:0.014646853320300579\n",
      "epoch:84 train_loss:0.007685597403906286 val_loss:0.014708742499351501\n",
      "epoch:85 train_loss:0.0076071214862167835 val_loss:0.014818272553384304\n",
      "epoch:86 train_loss:0.007520747720263898 val_loss:0.014754844829440117\n",
      "epoch:87 train_loss:0.007481552078388631 val_loss:0.01491453405469656\n",
      "epoch:88 train_loss:0.007397453533485532 val_loss:0.014705107547342777\n",
      "epoch:89 train_loss:0.00737029779702425 val_loss:0.014905326999723911\n",
      "epoch:90 train_loss:0.00729346729349345 val_loss:0.014740471728146076\n",
      "epoch:91 train_loss:0.007315135328099132 val_loss:0.015046200715005398\n",
      "epoch:92 train_loss:0.007250666152685881 val_loss:0.014738365076482296\n",
      "epoch:93 train_loss:0.007342744735069573 val_loss:0.015154192224144936\n"
     ]
    },
    {
     "name": "stderr",
     "output_type": "stream",
     "text": [
      "100%|██████████| 100/100 [00:00<00:00, 124.55it/s]"
     ]
    },
    {
     "name": "stdout",
     "output_type": "stream",
     "text": [
      "epoch:94 train_loss:0.007287245825864375 val_loss:0.014793182723224163\n",
      "epoch:95 train_loss:0.007529106107540429 val_loss:0.015213736332952976\n",
      "epoch:96 train_loss:0.00743637653067708 val_loss:0.014879278838634491\n",
      "epoch:97 train_loss:0.007818535610567778 val_loss:0.015139290131628513\n",
      "epoch:98 train_loss:0.007603067089803517 val_loss:0.014977914281189442\n",
      "epoch:99 train_loss:0.007843206461984664 val_loss:0.014982815831899643\n"
     ]
    },
    {
     "name": "stderr",
     "output_type": "stream",
     "text": [
      "\n"
     ]
    }
   ],
   "source": [
    "import torch\n",
    "from tqdm import tqdm\n",
    "from copy import deepcopy\n",
    "\n",
    "def step(model,batch,optimizer,device,loss_fn,mode='train'):\n",
    "    '''\n",
    "    這個函數實現了模型前向&後向傳播的過程,稱之為step\n",
    "    '''\n",
    "    # model to device\n",
    "    model = model.to(device)\n",
    "    # change mode(train/val)\n",
    "    if mode == 'train':\n",
    "        model.train()\n",
    "    if mode == 'val':\n",
    "        model.eval()\n",
    "    # model forward pass\n",
    "    x,y = batch\n",
    "    x = x.to(device)\n",
    "    y = y.to(device)\n",
    "    output = model(x)\n",
    "    loss = loss_fn(y,output)\n",
    "    # update model if mode == train\n",
    "    if mode == 'train': \n",
    "        loss.backward()\n",
    "        optimizer.step()\n",
    "        optimizer.zero_grad()\n",
    "    return loss.item()\n",
    "\n",
    "def train_loop(model,train_loader,val_loader,optimizer,device,loss_fn,max_epochs=12):\n",
    "    history = {'train_loss':[],'val_loss':[]}\n",
    "    best_loss = np.inf\n",
    "    best_model = None\n",
    "    for epoch in tqdm(range(max_epochs)):        \n",
    "        epoch_train_loss = 0.0\n",
    "        epoch_val_loss = 0.0\n",
    "        for i,batch in enumerate(train_loader):\n",
    "            epoch_train_loss += step(model,batch,optimizer,device,loss_fn,mode='train')\n",
    "        for j,batch in enumerate(val_loader):\n",
    "            epoch_val_loss += step(model,batch,optimizer,device,loss_fn,mode='val')\n",
    "        history['train_loss'].append(epoch_train_loss/(i+1))\n",
    "        history['val_loss'].append(epoch_val_loss/(j+1))\n",
    "        print(f'epoch:{epoch} train_loss:{epoch_train_loss/(i+1)} val_loss:{epoch_val_loss/(j+1)}')\n",
    "        if history['val_loss'][-1] <= best_loss: \n",
    "            best_model = deepcopy(model.eval())\n",
    "            best_loss = history['val_loss'][-1]\n",
    "            print(f'save best_model now_val_best_loss is:{best_loss}')\n",
    "    return best_model.eval() ,history\n",
    "\n",
    "optimizer = torch.optim.Adam(\n",
    "    params = model.parameters(),\n",
    "    lr = 1e-3)\n",
    "device = 'cpu'\n",
    "loss_fn = nn.SmoothL1Loss()\n",
    "best_model ,history = train_loop(model,train_loader,val_loader,optimizer,device,loss_fn,max_epochs=100)"
   ]
  },
  {
   "cell_type": "code",
   "execution_count": 12,
   "metadata": {},
   "outputs": [
    {
     "data": {
      "image/png": "[encoded data removed]",
      "text/plain": [
       "<Figure size 432x288 with 1 Axes>"
      ]
     },
     "metadata": {
      "needs_background": "light"
     },
     "output_type": "display_data"
    }
   ],
   "source": [
    "import matplotlib.pyplot as plt\n",
    "plt.plot(history['train_loss'],label='train')\n",
    "plt.plot(history['val_loss'],label='val')\n",
    "plt.legend()\n",
    "plt.show()"
   ]
  },
  {
   "cell_type": "code",
   "execution_count": 13,
   "metadata": {},
   "outputs": [
    {
     "name": "stdout",
     "output_type": "stream",
     "text": [
      "r2: 0.6720316027765129\n",
      "rmse: 0.13042548\n",
      "mape: 0.37876296\n"
     ]
    }
   ],
   "source": [
    "from sklearn.metrics import r2_score,mean_squared_error\n",
    "from numpy import sqrt\n",
    "\n",
    "def mape(a, b): \n",
    "    mask = a != 0\n",
    "    return (np.fabs(a - b)/a)[mask].mean()\n",
    "\n",
    "y_pred = model(torch.FloatTensor(merged_df[x_col].values))\n",
    "y_real = torch.FloatTensor(merged_df[y_col].values)\n",
    "print('r2:',r2_score(y_real.detach().numpy(),y_pred.detach().numpy()))\n",
    "print('rmse:',sqrt(mean_squared_error(y_real.detach().numpy(),y_pred.detach().numpy())))\n",
    "print('mape:',mape(y_real.detach().numpy(),y_pred.detach().numpy()))"
   ]
  },
  {
   "cell_type": "code",
   "execution_count": null,
   "metadata": {},
   "outputs": [],
   "source": []
  }
 ],
 "metadata": {
  "interpreter": {
   "hash": "709221cd6e8e8bb1271bebb288222f3d75e028518a70d134b83bcc07aeaab82d"
  },
  "kernelspec": {
   "display_name": "Python 3.8.5 ('base')",
   "language": "python",
   "name": "python3"
  },
  "language_info": {
   "codemirror_mode": {
    "name": "ipython",
    "version": 3
   },
   "file_extension": ".py",
   "mimetype": "text/x-python",
   "name": "python",
   "nbconvert_exporter": "python",
   "pygments_lexer": "ipython3",
   "version": "3.8.5"
  },
  "orig_nbformat": 4
 },
 "nbformat": 4,
 "nbformat_minor": 2
}
